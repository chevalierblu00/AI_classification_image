{
 "cells": [
  {
   "cell_type": "code",
   "execution_count": 1,
   "metadata": {},
   "outputs": [
    {
     "name": "stdout",
     "output_type": "stream",
     "text": [
      "Requirement already satisfied: torch in c:\\users\\mgasp\\onedrive\\bureau\\ia\\.venv\\lib\\site-packages (2.5.1)\n",
      "Requirement already satisfied: torchvision in c:\\users\\mgasp\\onedrive\\bureau\\ia\\.venv\\lib\\site-packages (0.20.1)\n",
      "Requirement already satisfied: matplotlib in c:\\users\\mgasp\\onedrive\\bureau\\ia\\.venv\\lib\\site-packages (3.10.0)\n",
      "Requirement already satisfied: filelock in c:\\users\\mgasp\\onedrive\\bureau\\ia\\.venv\\lib\\site-packages (from torch) (3.17.0)\n",
      "Requirement already satisfied: typing-extensions>=4.8.0 in c:\\users\\mgasp\\onedrive\\bureau\\ia\\.venv\\lib\\site-packages (from torch) (4.12.2)\n",
      "Requirement already satisfied: networkx in c:\\users\\mgasp\\onedrive\\bureau\\ia\\.venv\\lib\\site-packages (from torch) (3.4.2)\n",
      "Requirement already satisfied: jinja2 in c:\\users\\mgasp\\onedrive\\bureau\\ia\\.venv\\lib\\site-packages (from torch) (3.1.5)\n",
      "Requirement already satisfied: fsspec in c:\\users\\mgasp\\onedrive\\bureau\\ia\\.venv\\lib\\site-packages (from torch) (2024.12.0)\n",
      "Requirement already satisfied: sympy==1.13.1 in c:\\users\\mgasp\\onedrive\\bureau\\ia\\.venv\\lib\\site-packages (from torch) (1.13.1)\n",
      "Requirement already satisfied: mpmath<1.4,>=1.1.0 in c:\\users\\mgasp\\onedrive\\bureau\\ia\\.venv\\lib\\site-packages (from sympy==1.13.1->torch) (1.3.0)\n",
      "Requirement already satisfied: numpy in c:\\users\\mgasp\\onedrive\\bureau\\ia\\.venv\\lib\\site-packages (from torchvision) (2.2.2)\n",
      "Requirement already satisfied: pillow!=8.3.*,>=5.3.0 in c:\\users\\mgasp\\onedrive\\bureau\\ia\\.venv\\lib\\site-packages (from torchvision) (11.1.0)\n",
      "Requirement already satisfied: contourpy>=1.0.1 in c:\\users\\mgasp\\onedrive\\bureau\\ia\\.venv\\lib\\site-packages (from matplotlib) (1.3.1)\n",
      "Requirement already satisfied: cycler>=0.10 in c:\\users\\mgasp\\onedrive\\bureau\\ia\\.venv\\lib\\site-packages (from matplotlib) (0.12.1)\n",
      "Requirement already satisfied: fonttools>=4.22.0 in c:\\users\\mgasp\\onedrive\\bureau\\ia\\.venv\\lib\\site-packages (from matplotlib) (4.55.7)\n",
      "Requirement already satisfied: kiwisolver>=1.3.1 in c:\\users\\mgasp\\onedrive\\bureau\\ia\\.venv\\lib\\site-packages (from matplotlib) (1.4.8)\n",
      "Requirement already satisfied: packaging>=20.0 in c:\\users\\mgasp\\onedrive\\bureau\\ia\\.venv\\lib\\site-packages (from matplotlib) (24.2)\n",
      "Requirement already satisfied: pyparsing>=2.3.1 in c:\\users\\mgasp\\onedrive\\bureau\\ia\\.venv\\lib\\site-packages (from matplotlib) (3.2.1)\n",
      "Requirement already satisfied: python-dateutil>=2.7 in c:\\users\\mgasp\\onedrive\\bureau\\ia\\.venv\\lib\\site-packages (from matplotlib) (2.9.0.post0)\n",
      "Requirement already satisfied: six>=1.5 in c:\\users\\mgasp\\onedrive\\bureau\\ia\\.venv\\lib\\site-packages (from python-dateutil>=2.7->matplotlib) (1.17.0)\n",
      "Requirement already satisfied: MarkupSafe>=2.0 in c:\\users\\mgasp\\onedrive\\bureau\\ia\\.venv\\lib\\site-packages (from jinja2->torch) (3.0.2)\n",
      "Note: you may need to restart the kernel to use updated packages.\n"
     ]
    }
   ],
   "source": [
    "%pip install torch torchvision matplotlib\n",
    "\n",
    "import torch\n",
    "from torchvision import datasets\n",
    "import torchvision.transforms as T\n",
    "import matplotlib.pyplot as plt\n",
    "from torch.utils.data import DataLoader\n",
    "import torch.nn as nn\n"
   ]
  },
  {
   "cell_type": "code",
   "execution_count": 2,
   "metadata": {},
   "outputs": [],
   "source": [
    "# Importer Un dataset préfait (FGVCAircraft)\n",
    "\n",
    "training_dataset = datasets.FGVCAircraft(\n",
    "    root=\"data\",\n",
    "    split=\"train\",\n",
    "    download=True,\n",
    "    transform=T.ToTensor()\n",
    ")\n",
    "\n",
    "test_dataset = datasets.FGVCAircraft(\n",
    "    root=\"data\",\n",
    "    split=\"test\",\n",
    "    download=True,\n",
    "    transform=T.ToTensor()\n",
    ")\n"
   ]
  },
  {
   "cell_type": "code",
   "execution_count": 73,
   "metadata": {},
   "outputs": [
    {
     "name": "stdout",
     "output_type": "stream",
     "text": [
      "Dataset FGVCAircraft\n",
      "    Number of datapoints: 3334\n",
      "    Root location: data\n",
      "    StandardTransform\n",
      "Transform: ToTensor()\n",
      "Image shape: torch.Size([3, 28, 28])\n",
      "Label: 0\n",
      "Nombre total de labels: 3334\n",
      "Labels uniques: {0, 1, 2, 3, 4, 5, 6, 7, 8, 9, 10, 11, 12, 13, 14, 15, 16, 17, 18, 19, 20, 21, 22, 23, 24, 25, 26, 27, 28, 29, 30, 31, 32, 33, 34, 35, 36, 37, 38, 39, 40, 41, 42, 43, 44, 45, 46, 47, 48, 49, 50, 51, 52, 53, 54, 55, 56, 57, 58, 59, 60, 61, 62, 63, 64, 65, 66, 67, 68, 69, 70, 71, 72, 73, 74, 75, 76, 77, 78, 79, 80, 81, 82, 83, 84, 85, 86, 87, 88, 89, 90, 91, 92, 93, 94, 95, 96, 97, 98, 99}\n"
     ]
    }
   ],
   "source": [
    "# Afficher des informations sur le dataset\n",
    "print(training_dataset)\n",
    "\n",
    "# Accéder aux données et aux labels\n",
    "image, label = training_dataset[0]  # Exemple du premier élément du dataset\n",
    "print(f\"Image shape: {image.shape}\")\n",
    "print(f\"Label: {label}\")\n",
    "\n",
    "# Parcourir toutes les cibles (labels)\n",
    "all_labels = [training_dataset[i][1] for i in range(len(training_dataset))]\n",
    "print(f\"Nombre total de labels: {len(all_labels)}\")\n",
    "print(f\"Labels uniques: {set(all_labels)}\")\n"
   ]
  },
  {
   "cell_type": "code",
   "execution_count": 92,
   "metadata": {},
   "outputs": [
    {
     "name": "stderr",
     "output_type": "stream",
     "text": [
      "Clipping input data to the valid range for imshow with RGB data ([0..1] for floats or [0..255] for integers). Got range [-2.0494049..2.4308496].\n",
      "Clipping input data to the valid range for imshow with RGB data ([0..1] for floats or [0..255] for integers). Got range [-1.7906162..1.9602616].\n",
      "Clipping input data to the valid range for imshow with RGB data ([0..1] for floats or [0..255] for integers). Got range [-1.6475817..2.3262744].\n",
      "Clipping input data to the valid range for imshow with RGB data ([0..1] for floats or [0..255] for integers). Got range [-1.5185376..1.8905448].\n",
      "Clipping input data to the valid range for imshow with RGB data ([0..1] for floats or [0..255] for integers). Got range [-1.5980392..2.6051416].\n",
      "Clipping input data to the valid range for imshow with RGB data ([0..1] for floats or [0..255] for integers). Got range [-1.3472902..1.6291069].\n",
      "Clipping input data to the valid range for imshow with RGB data ([0..1] for floats or [0..255] for integers). Got range [-1.8267832..2.4308496].\n",
      "Clipping input data to the valid range for imshow with RGB data ([0..1] for floats or [0..255] for integers). Got range [-1.8610327..2.169412].\n",
      "Clipping input data to the valid range for imshow with RGB data ([0..1] for floats or [0..255] for integers). Got range [-1.7411594..2.3262744].\n"
     ]
    },
    {
     "data": {
      "image/png": "[encoded data removed]",
      "text/plain": [
       "<Figure size 800x800 with 9 Axes>"
      ]
     },
     "metadata": {},
     "output_type": "display_data"
    }
   ],
   "source": [
    "# Créer une figure pour afficher des exemples d'images\n",
    "figure = plt.figure(figsize=(8, 8))\n",
    "cols, rows = 3, 3\n",
    "\n",
    "for i in range(1, cols * rows + 1):\n",
    "    # Sélectionner un index aléatoire\n",
    "    sample_idx = torch.randint(len(training_dataset), size=(1,)).item()\n",
    "    \n",
    "    # Charger une image et son label\n",
    "    img, label = training_dataset[sample_idx]\n",
    "    \n",
    "    # Ajouter un sous-graphique\n",
    "    figure.add_subplot(rows, cols, i)\n",
    "    plt.title(f\"Label: {label}\")  # Afficher le label\n",
    "    plt.axis(\"off\")\n",
    "    \n",
    "    # Afficher l'image\n",
    "    # img est un tenseur (C, H, W), on doit le transposer en (H, W, C) pour matplotlib\n",
    "    plt.imshow(img.permute(1, 2, 0))  # Transposer pour matplotlib\n",
    "\n",
    "plt.show()\n"
   ]
  },
  {
   "cell_type": "code",
   "execution_count": 78,
   "metadata": {},
   "outputs": [
    {
     "name": "stdout",
     "output_type": "stream",
     "text": [
      "Shape de X (images) : torch.Size([64, 3, 28, 28])\n",
      "Shape de y (labels) : torch.Size([64])\n"
     ]
    }
   ],
   "source": [
    "transform = T.Compose([\n",
    "    T.Resize((28, 28)),  # Redimensionner à 28x28\n",
    "    T.ToTensor(),\n",
    "    T.Normalize(mean=(0.485, 0.456, 0.406), std=(0.229, 0.224, 0.225))  # Normalisation ImageNet\n",
    "])\n",
    "\n",
    "training_dataset.transform = transform\n",
    "test_dataset.transform = transform\n",
    "\n",
    "# Définir les DataLoaders\n",
    "batch_size = 64\n",
    "train_dataloader = DataLoader(training_dataset, batch_size=batch_size, shuffle=True)\n",
    "test_dataloader = DataLoader(test_dataset, batch_size=batch_size)\n",
    "\n",
    "# Tester le DataLoader\n",
    "for X, y in test_dataloader:\n",
    "    print(f\"Shape de X (images) : {X.shape}\")\n",
    "    print(f\"Shape de y (labels) : {y.shape}\")\n",
    "    break\n"
   ]
  },
  {
   "cell_type": "code",
   "execution_count": 6,
   "metadata": {},
   "outputs": [
    {
     "data": {
      "text/plain": [
       "torch.Size([64, 3, 28, 28])"
      ]
     },
     "execution_count": 6,
     "metadata": {},
     "output_type": "execute_result"
    }
   ],
   "source": [
    "train_features, train_labels = next(iter(train_dataloader))\n",
    "train_features.shape\n"
   ]
  },
  {
   "cell_type": "code",
   "execution_count": 8,
   "metadata": {},
   "outputs": [],
   "source": [
    "class MLP(nn.Module):\n",
    "    def __init__(self, dims, input_shape):\n",
    "        \"\"\"\n",
    "        Initialise un MLP pour des dimensions données.\n",
    "        :param dims: Liste des dimensions des couches [input_dim, hidden1, hidden2, ..., output_dim]\n",
    "        :param input_shape: Tuple représentant la taille d'entrée (C, H, W)\n",
    "        \"\"\"\n",
    "        super(MLP, self).__init__()\n",
    "        self.flatten = nn.Flatten()  # Aplatir les images\n",
    "        input_dim = input_shape[0] * input_shape[1] * input_shape[2]  # C * H * W\n",
    "\n",
    "        # Créer les couches entièrement connectées\n",
    "        self.fcs = nn.ModuleList(\n",
    "            [nn.Linear(input_dim if i == 0 else dims[i], dims[i+1]) for i in range(len(dims)-1)]\n",
    "        )\n",
    "        self.act = nn.ReLU()\n",
    "\n",
    "    def forward(self, x):\n",
    "        x = self.flatten(x)  # Aplatir l'entrée\n",
    "        for layer in self.fcs:\n",
    "            x = layer(x)\n",
    "            x = self.act(x)\n",
    "        return x\n"
   ]
  },
  {
   "cell_type": "code",
   "execution_count": 9,
   "metadata": {},
   "outputs": [
    {
     "name": "stdout",
     "output_type": "stream",
     "text": [
      "Accélérateur cpu\n"
     ]
    }
   ],
   "source": [
    "device = 'cuda' if torch.cuda.is_available() else 'cpu'\n",
    "print(f\"Accélérateur {device}\")\n",
    "\n",
    "input_shape = (3, 28, 28)  # Taille corrigée des images RGB\n",
    "input_dim = input_shape[0] * input_shape[1] * input_shape[2]  # 3 x 28 x 28 = 2352\n",
    "output_dim = 100  # Nombre de classes pour FGVCAircraft\n",
    "\n",
    "model = MLP([input_dim, 128, 128, output_dim], input_shape).to(device)\n"
   ]
  },
  {
   "cell_type": "code",
   "execution_count": 10,
   "metadata": {},
   "outputs": [
    {
     "data": {
      "text/plain": [
       "MLP(\n",
       "  (flatten): Flatten(start_dim=1, end_dim=-1)\n",
       "  (fcs): ModuleList(\n",
       "    (0): Linear(in_features=2352, out_features=128, bias=True)\n",
       "    (1): Linear(in_features=128, out_features=128, bias=True)\n",
       "    (2): Linear(in_features=128, out_features=100, bias=True)\n",
       "  )\n",
       "  (act): ReLU()\n",
       ")"
      ]
     },
     "execution_count": 10,
     "metadata": {},
     "output_type": "execute_result"
    }
   ],
   "source": [
    "model\n"
   ]
  },
  {
   "cell_type": "code",
   "execution_count": 93,
   "metadata": {},
   "outputs": [],
   "source": [
    "loss_fn = nn.CrossEntropyLoss() # Expect raw logits (!= probabilities)\n",
    "optimizer = torch.optim.AdamW(model.parameters(), lr=1e-3) \n"
   ]
  },
  {
   "cell_type": "code",
   "execution_count": 94,
   "metadata": {},
   "outputs": [],
   "source": [
    "# Fonction de boucle d'entraînement (mise à jour pour le GPU)\n",
    "def train_loop(dataloader, model, loss_fn, optimizer, device):\n",
    "    model.train()\n",
    "    for batch, (X, y) in enumerate(dataloader):\n",
    "        # Envoyer les données sur le GPU\n",
    "        X, y = X.to(device), y.to(device)\n",
    "\n",
    "        # Prédiction\n",
    "        y_pred = model(X)\n",
    "        loss = loss_fn(y_pred, y)\n",
    "\n",
    "        # Backpropagation\n",
    "        loss.backward()\n",
    "        optimizer.step()\n",
    "        optimizer.zero_grad()\n",
    "\n",
    "        # Affichage périodique des pertes\n",
    "        if batch % 100 == 0:\n",
    "            loss_value = loss.item()\n",
    "            current = batch * len(X)\n",
    "            print(f\"Loss: {loss_value:>7f} [{current:>5d}/{len(dataloader.dataset)}]\")\n",
    "\n",
    "# Fonction de boucle de test (mise à jour pour le GPU)\n",
    "def test_loop(dataloader, model, loss_fn, device):\n",
    "    model.eval()\n",
    "    test_loss, correct = 0, 0\n",
    "\n",
    "    with torch.no_grad():\n",
    "        for X, y in dataloader:\n",
    "            # Envoyer les données sur le GPU\n",
    "            X, y = X.to(device), y.to(device)\n",
    "\n",
    "            # Prédiction\n",
    "            y_pred = model(X)\n",
    "            test_loss += loss_fn(y_pred, y).item()\n",
    "            correct += (y_pred.argmax(1) == y).type(torch.float).sum().item()\n",
    "\n",
    "    test_loss /= len(dataloader)\n",
    "    correct /= len(dataloader.dataset)\n",
    "    print(f\"Test loss: {test_loss:>8f} | Test accuracy: {(correct * 100):>0.2f}%\")\n"
   ]
  },
  {
   "cell_type": "code",
   "execution_count": 95,
   "metadata": {},
   "outputs": [
    {
     "name": "stdout",
     "output_type": "stream",
     "text": [
      "Epoch 1 ------------------------\n",
      "Loss: 3.682770 [    0/3334]\n",
      "Test loss: 4.605170 | Test accuracy: 0.99%\n",
      "Epoch 2 ------------------------\n",
      "Loss: 4.605170 [    0/3334]\n",
      "Test loss: 4.605170 | Test accuracy: 0.99%\n",
      "Epoch 3 ------------------------\n",
      "Loss: 4.605170 [    0/3334]\n",
      "Test loss: 4.605170 | Test accuracy: 0.99%\n",
      "Done!\n"
     ]
    }
   ],
   "source": [
    "# Boucle principale\n",
    "epochs = 3\n",
    "for t in range(epochs):\n",
    "    print(f\"Epoch {t+1} ------------------------\")\n",
    "    train_loop(train_dataloader, model, loss_fn, optimizer, device)\n",
    "    test_loop(test_dataloader, model, loss_fn, device)\n",
    "print(\"Done!\")\n"
   ]
  },
  {
   "cell_type": "markdown",
   "metadata": {},
   "source": [
    "normalisation"
   ]
  },
  {
   "cell_type": "code",
   "execution_count": 14,
   "metadata": {},
   "outputs": [],
   "source": [
    "# Importer Un dataset préfait (FGVCAircraft)\n",
    "\n",
    "training_dataset = datasets.FGVCAircraft(\n",
    "    root=\"data\",\n",
    "    split=\"train\",\n",
    "    download=True,\n",
    "    transform=T.ToTensor()\n",
    ")\n",
    "\n",
    "test_dataset = datasets.FGVCAircraft(\n",
    "    root=\"data\",\n",
    "    split=\"test\",\n",
    "    download=True,\n",
    "    transform=T.ToTensor()\n",
    ")\n"
   ]
  },
  {
   "cell_type": "code",
   "execution_count": 16,
   "metadata": {},
   "outputs": [
    {
     "name": "stdout",
     "output_type": "stream",
     "text": [
      "Mean (par canal): tensor([0.4787, 0.5102, 0.5343])\n",
      "Standard deviation (par canal): tensor([0.1956, 0.1943, 0.2160])\n"
     ]
    }
   ],
   "source": [
    "#mean, variance des images\n",
    "from torch.utils.data import ConcatDataset\n",
    "\n",
    "# Initialiser mean et std comme des tenseurs de dimension (3,) pour chaque canal (R, G, B)\n",
    "mean = torch.zeros(3)\n",
    "std = torch.zeros(3)\n",
    "\n",
    "# Combiner les datasets d'entraînement et de test\n",
    "combined_data = ConcatDataset([training_dataset, test_dataset])\n",
    "\n",
    "# Nombre total d'images\n",
    "num_images = len(combined_data)\n",
    "\n",
    "for image, label in combined_data:\n",
    "    # Vérifier que l'image est bien en format (C, H, W)\n",
    "    if image.ndim == 3:\n",
    "        mean += image.mean(dim=(1, 2))  # Moyenne par canal\n",
    "        std += image.std(dim=(1, 2))   # Écart-type par canal\n",
    "    else:\n",
    "        raise ValueError(f\"L'image doit être en format (C, H, W), mais elle a la forme {image.shape}\")\n",
    "\n",
    "# Calculer la moyenne et l'écart-type finaux\n",
    "mean /= num_images\n",
    "std /= num_images\n",
    "\n",
    "print(f\"Mean (par canal): {mean}\")\n",
    "print(f\"Standard deviation (par canal): {std}\")\n"
   ]
  },
  {
   "cell_type": "code",
   "execution_count": 18,
   "metadata": {},
   "outputs": [],
   "source": [
    "# Importer Un dataset préfait (FGVCAircraft)\n",
    "\n",
    "training_dataset_V2 = datasets.FGVCAircraft(\n",
    "    root=\"data\",\n",
    "    split=\"train\",\n",
    "    download=True,\n",
    "    transform=T.Compose([T.ToTensor(), T.Normalize(mean, std)])\n",
    ")\n",
    "\n",
    "test_dataset_V2 = datasets.FGVCAircraft(\n",
    "    root=\"data\",\n",
    "    split=\"test\",\n",
    "    download=True,\n",
    "    transform=T.Compose([T.ToTensor(), T.Normalize(mean, std)])\n",
    ")\n"
   ]
  },
  {
   "cell_type": "code",
   "execution_count": 20,
   "metadata": {},
   "outputs": [
    {
     "name": "stdout",
     "output_type": "stream",
     "text": [
      "Mean (R, G, B): tensor([ 1.6492e-06,  2.5082e-06, -5.5617e-06])\n",
      "Standard Deviation (R, G, B): tensor([1.0000, 1.0000, 1.0000])\n"
     ]
    }
   ],
   "source": [
    "#mean, variance des images\n",
    "from torch.utils.data import ConcatDataset\n",
    "\n",
    "# Initialisation des variables pour la moyenne et la variance\n",
    "mean = torch.zeros(3)  # Une valeur pour chaque canal (R, G, B)\n",
    "std = torch.zeros(3)\n",
    "\n",
    "# Combiner les datasets d'entraînement et de test\n",
    "combined_data = ConcatDataset([training_dataset_V2, test_dataset_V2])\n",
    "\n",
    "# Calculer la moyenne et la variance pour chaque canal\n",
    "for image, label in combined_data:\n",
    "    # Assurez-vous que l'image est sous forme de tenseur avec les dimensions (C, H, W)\n",
    "    if len(image.shape) == 3:  # (C, H, W)\n",
    "        for c in range(3):  # Parcourir chaque canal\n",
    "            mean[c] += image[c, :, :].mean()\n",
    "            std[c] += image[c, :, :].std()\n",
    "    else:\n",
    "        raise ValueError(\"Les images doivent être au format (C, H, W).\")\n",
    "\n",
    "# Diviser par le nombre total d'images pour obtenir la moyenne\n",
    "mean /= len(combined_data)\n",
    "std /= len(combined_data)\n",
    "\n",
    "print(f\"Mean (R, G, B): {mean}\")\n",
    "print(f\"Standard Deviation (R, G, B): {std}\")\n"
   ]
  },
  {
   "cell_type": "code",
   "execution_count": 21,
   "metadata": {},
   "outputs": [
    {
     "data": {
      "text/plain": [
       "(tensor([[[0.8588, 0.8549, 0.8588,  ..., 0.8745, 0.8706, 0.8627],\n",
       "          [0.8510, 0.8627, 0.8706,  ..., 0.8588, 0.8627, 0.8706],\n",
       "          [0.8510, 0.8667, 0.8706,  ..., 0.8667, 0.8745, 0.8784],\n",
       "          ...,\n",
       "          [0.0000, 0.2275, 0.3961,  ..., 0.0118, 0.0039, 0.0078],\n",
       "          [0.0000, 0.0039, 0.0000,  ..., 0.0000, 0.0000, 0.0039],\n",
       "          [0.0157, 0.0157, 0.0235,  ..., 0.0000, 0.0000, 0.0000]],\n",
       " \n",
       "         [[0.8588, 0.8549, 0.8588,  ..., 0.8745, 0.8706, 0.8627],\n",
       "          [0.8510, 0.8627, 0.8706,  ..., 0.8588, 0.8627, 0.8706],\n",
       "          [0.8510, 0.8667, 0.8706,  ..., 0.8667, 0.8745, 0.8784],\n",
       "          ...,\n",
       "          [0.0353, 0.2745, 0.4510,  ..., 0.0039, 0.0000, 0.0000],\n",
       "          [0.0078, 0.0078, 0.0078,  ..., 0.0000, 0.0000, 0.0039],\n",
       "          [0.0000, 0.0000, 0.0000,  ..., 0.0000, 0.0000, 0.0000]],\n",
       " \n",
       "         [[0.8588, 0.8549, 0.8588,  ..., 0.8745, 0.8706, 0.8627],\n",
       "          [0.8510, 0.8627, 0.8706,  ..., 0.8588, 0.8627, 0.8706],\n",
       "          [0.8510, 0.8667, 0.8706,  ..., 0.8667, 0.8745, 0.8784],\n",
       "          ...,\n",
       "          [0.0314, 0.3216, 0.5020,  ..., 0.0078, 0.0000, 0.0039],\n",
       "          [0.0000, 0.0157, 0.0039,  ..., 0.0000, 0.0000, 0.0039],\n",
       "          [0.0039, 0.0157, 0.0157,  ..., 0.0000, 0.0000, 0.0000]]]),\n",
       " 0)"
      ]
     },
     "execution_count": 21,
     "metadata": {},
     "output_type": "execute_result"
    }
   ],
   "source": [
    "training_dataset[0]\n"
   ]
  },
  {
   "cell_type": "code",
   "execution_count": 22,
   "metadata": {},
   "outputs": [
    {
     "data": {
      "text/plain": [
       "(tensor([[[ 1.9430,  1.9229,  1.9430,  ...,  2.0232,  2.0031,  1.9630],\n",
       "          [ 1.9029,  1.9630,  2.0031,  ...,  1.9430,  1.9630,  2.0031],\n",
       "          [ 1.9029,  1.9831,  2.0031,  ...,  1.9831,  2.0232,  2.0432],\n",
       "          ...,\n",
       "          [-2.4470, -1.2844, -0.4224,  ..., -2.3869, -2.4270, -2.4069],\n",
       "          [-2.4470, -2.4270, -2.4470,  ..., -2.4470, -2.4470, -2.4270],\n",
       "          [-2.3668, -2.3668, -2.3267,  ..., -2.4470, -2.4470, -2.4470]],\n",
       " \n",
       "         [[ 1.7944,  1.7742,  1.7944,  ...,  1.8751,  1.8549,  1.8146],\n",
       "          [ 1.7540,  1.8146,  1.8549,  ...,  1.7944,  1.8146,  1.8549],\n",
       "          [ 1.7540,  1.8347,  1.8549,  ...,  1.8347,  1.8751,  1.8953],\n",
       "          ...,\n",
       "          [-2.4442, -1.2130, -0.3048,  ..., -2.6057, -2.6259, -2.6259],\n",
       "          [-2.5855, -2.5855, -2.5855,  ..., -2.6259, -2.6259, -2.6057],\n",
       "          [-2.6259, -2.6259, -2.6259,  ..., -2.6259, -2.6259, -2.6259]],\n",
       " \n",
       "         [[ 1.5022,  1.4841,  1.5022,  ...,  1.5749,  1.5567,  1.5204],\n",
       "          [ 1.4659,  1.5204,  1.5567,  ...,  1.5022,  1.5204,  1.5567],\n",
       "          [ 1.4659,  1.5386,  1.5567,  ...,  1.5386,  1.5749,  1.5930],\n",
       "          ...,\n",
       "          [-2.3287, -0.9851, -0.1499,  ..., -2.4376, -2.4739, -2.4558],\n",
       "          [-2.4739, -2.4013, -2.4558,  ..., -2.4739, -2.4739, -2.4558],\n",
       "          [-2.4558, -2.4013, -2.4013,  ..., -2.4739, -2.4739, -2.4739]]]),\n",
       " 0)"
      ]
     },
     "execution_count": 22,
     "metadata": {},
     "output_type": "execute_result"
    }
   ],
   "source": [
    "training_dataset_V2[0]\n"
   ]
  },
  {
   "cell_type": "code",
   "execution_count": 24,
   "metadata": {},
   "outputs": [
    {
     "name": "stdout",
     "output_type": "stream",
     "text": [
      "Shape de X (images): torch.Size([64, 3, 28, 28])\n",
      "Shape de y (labels): torch.Size([64])\n",
      "Labels uniques dans le batch: tensor([0, 1])\n"
     ]
    }
   ],
   "source": [
    "from torch.utils.data import DataLoader\n",
    "\n",
    "# Définir le batch size\n",
    "batch_size = 64\n",
    "\n",
    "# Ajouter une transformation pour redimensionner les images\n",
    "transform = T.Compose([\n",
    "    T.Resize((28, 28)),  # Redimensionner à 28x28\n",
    "    T.ToTensor(),\n",
    "    T.Normalize(mean=(0.485, 0.456, 0.406), std=(0.229, 0.224, 0.225))  # Normalisation ImageNet\n",
    "])\n",
    "\n",
    "# Appliquer la transformation aux datasets\n",
    "training_dataset.transform = transform\n",
    "test_dataset.transform = transform\n",
    "\n",
    "# Créer les DataLoaders pour entraînement et test\n",
    "train_dataloader = DataLoader(training_dataset, batch_size=batch_size, shuffle=True)\n",
    "test_dataloader = DataLoader(test_dataset, batch_size=batch_size)\n",
    "\n",
    "# Parcourir un batch de test\n",
    "for X, y in test_dataloader:\n",
    "    print(f\"Shape de X (images): {X.shape}\")  # Dimensions des images dans le batch\n",
    "    print(f\"Shape de y (labels): {y.shape}\")  # Dimensions des labels dans le batch\n",
    "    print(f\"Labels uniques dans le batch: {y.unique()}\")\n",
    "    break\n"
   ]
  },
  {
   "cell_type": "code",
   "execution_count": 26,
   "metadata": {},
   "outputs": [
    {
     "name": "stdout",
     "output_type": "stream",
     "text": [
      "Epoch 1 ------------------------\n",
      "Loss: 4.197552 [    0/3334]\n",
      "Test loss: 4.483652 | Test accuracy: 5.73%\n",
      "Epoch 2 ------------------------\n",
      "Loss: 4.306851 [    0/3334]\n",
      "Test loss: 4.462152 | Test accuracy: 6.69%\n",
      "Epoch 3 ------------------------\n",
      "Loss: 4.089507 [    0/3334]\n",
      "Test loss: 4.443366 | Test accuracy: 7.14%\n",
      "Done!\n"
     ]
    }
   ],
   "source": [
    "epochs = 3\n",
    "for t in range(epochs):\n",
    "    print(f\"Epoch {t+1} ------------------------\")\n",
    "    train_loop(train_dataloader, model, loss_fn, optimizer, device)\n",
    "    test_loop(test_dataloader, model, loss_fn, device)\n",
    "print(\"Done!\")\n"
   ]
  },
  {
   "cell_type": "code",
   "execution_count": 27,
   "metadata": {},
   "outputs": [
    {
     "name": "stdout",
     "output_type": "stream",
     "text": [
      "Accélérateur cpu\n"
     ]
    }
   ],
   "source": [
    "device = 'cuda' if torch.cuda.is_available() else 'cpu'\n",
    "print(f\"Accélérateur {device}\")\n"
   ]
  },
  {
   "cell_type": "code",
   "execution_count": 28,
   "metadata": {},
   "outputs": [
    {
     "name": "stdout",
     "output_type": "stream",
     "text": [
      "Collecting tensorboardNote: you may need to restart the kernel to use updated packages.\n",
      "\n",
      "  Using cached tensorboard-2.18.0-py3-none-any.whl.metadata (1.6 kB)\n",
      "Collecting absl-py>=0.4 (from tensorboard)\n",
      "  Using cached absl_py-2.1.0-py3-none-any.whl.metadata (2.3 kB)\n",
      "Collecting grpcio>=1.48.2 (from tensorboard)\n",
      "  Using cached grpcio-1.70.0-cp310-cp310-win_amd64.whl.metadata (4.0 kB)\n",
      "Collecting markdown>=2.6.8 (from tensorboard)\n",
      "  Using cached Markdown-3.7-py3-none-any.whl.metadata (7.0 kB)\n",
      "Requirement already satisfied: numpy>=1.12.0 in c:\\users\\mgasp\\onedrive\\bureau\\ia\\.venv\\lib\\site-packages (from tensorboard) (2.2.2)\n",
      "Requirement already satisfied: packaging in c:\\users\\mgasp\\onedrive\\bureau\\ia\\.venv\\lib\\site-packages (from tensorboard) (24.2)\n",
      "Collecting protobuf!=4.24.0,>=3.19.6 (from tensorboard)\n",
      "  Using cached protobuf-5.29.3-cp310-abi3-win_amd64.whl.metadata (592 bytes)\n",
      "Requirement already satisfied: setuptools>=41.0.0 in c:\\users\\mgasp\\onedrive\\bureau\\ia\\.venv\\lib\\site-packages (from tensorboard) (65.5.0)\n",
      "Requirement already satisfied: six>1.9 in c:\\users\\mgasp\\onedrive\\bureau\\ia\\.venv\\lib\\site-packages (from tensorboard) (1.17.0)\n",
      "Collecting tensorboard-data-server<0.8.0,>=0.7.0 (from tensorboard)\n",
      "  Using cached tensorboard_data_server-0.7.2-py3-none-any.whl.metadata (1.1 kB)\n",
      "Collecting werkzeug>=1.0.1 (from tensorboard)\n",
      "  Using cached werkzeug-3.1.3-py3-none-any.whl.metadata (3.7 kB)\n",
      "Requirement already satisfied: MarkupSafe>=2.1.1 in c:\\users\\mgasp\\onedrive\\bureau\\ia\\.venv\\lib\\site-packages (from werkzeug>=1.0.1->tensorboard) (3.0.2)\n",
      "Using cached tensorboard-2.18.0-py3-none-any.whl (5.5 MB)\n",
      "Using cached absl_py-2.1.0-py3-none-any.whl (133 kB)\n",
      "Using cached grpcio-1.70.0-cp310-cp310-win_amd64.whl (4.3 MB)\n",
      "Using cached Markdown-3.7-py3-none-any.whl (106 kB)\n",
      "Using cached protobuf-5.29.3-cp310-abi3-win_amd64.whl (434 kB)\n",
      "Using cached tensorboard_data_server-0.7.2-py3-none-any.whl (2.4 kB)\n",
      "Using cached werkzeug-3.1.3-py3-none-any.whl (224 kB)\n",
      "Installing collected packages: werkzeug, tensorboard-data-server, protobuf, markdown, grpcio, absl-py, tensorboard\n",
      "Successfully installed absl-py-2.1.0 grpcio-1.70.0 markdown-3.7 protobuf-5.29.3 tensorboard-2.18.0 tensorboard-data-server-0.7.2 werkzeug-3.1.3\n",
      "Epoch 1/3\n",
      "Train Loss: 4.1013, Train Accuracy: 15.60%\n",
      "Test Loss: 4.4589, Test Accuracy: 6.84%\n",
      "------------------------------\n",
      "Epoch 2/3\n",
      "Train Loss: 4.0247, Train Accuracy: 17.70%\n",
      "Test Loss: 4.4557, Test Accuracy: 7.47%\n",
      "------------------------------\n",
      "Epoch 3/3\n",
      "Train Loss: 3.9240, Train Accuracy: 20.19%\n",
      "Test Loss: 4.4508, Test Accuracy: 7.29%\n",
      "------------------------------\n"
     ]
    }
   ],
   "source": [
    "# Install tensorboard package\n",
    "%pip install tensorboard\n",
    "\n",
    "from torch.utils.tensorboard import SummaryWriter\n",
    "\n",
    "writer = SummaryWriter('runs/fgvcaircraft_experiment')\n",
    "\n",
    "def train_loop(dataloader, model, loss_fn, optimizer):\n",
    "    model.train()\n",
    "    epoch_loss = 0\n",
    "    correct = 0\n",
    "\n",
    "    for X, y in dataloader:\n",
    "        X, y = X.to(device), y.to(device)\n",
    "\n",
    "        # Compute prediction and loss\n",
    "        pred = model(X)\n",
    "        loss = loss_fn(pred, y)\n",
    "\n",
    "        # Backpropagation\n",
    "        optimizer.zero_grad()\n",
    "        loss.backward()\n",
    "        optimizer.step()\n",
    "\n",
    "        # Accumulate metrics\n",
    "        epoch_loss += loss.item()\n",
    "        correct += (pred.argmax(1) == y).type(torch.float).sum().item()\n",
    "\n",
    "    return epoch_loss / len(dataloader), correct / len(dataloader.dataset) * 100\n",
    "\n",
    "def test_loop(dataloader, model, loss_fn):\n",
    "    model.eval()\n",
    "    test_loss, correct = 0, 0\n",
    "\n",
    "    with torch.no_grad():\n",
    "        for X, y in dataloader:\n",
    "            X, y = X.to(device), y.to(device)\n",
    "\n",
    "            pred = model(X)\n",
    "            test_loss += loss_fn(pred, y).item()\n",
    "            correct += (pred.argmax(1) == y).type(torch.float).sum().item()\n",
    "\n",
    "    return test_loss / len(dataloader), correct / len(dataloader.dataset) * 100\n",
    "\n",
    "def train_and_test(dataloader_train, dataloader_test, model, loss_fn, optimizer, epochs):\n",
    "    for epoch in range(epochs):\n",
    "        print(f\"Epoch {epoch+1}/{epochs}\")\n",
    "\n",
    "        # Train the model\n",
    "        train_loss, train_accuracy = train_loop(dataloader_train, model, loss_fn, optimizer)\n",
    "        writer.add_scalars('Loss', {'train': train_loss}, epoch)\n",
    "        writer.add_scalars('Accuracy', {'train': train_accuracy}, epoch)\n",
    "\n",
    "        # Test the model\n",
    "        test_loss, test_accuracy = test_loop(dataloader_test, model, loss_fn)\n",
    "        writer.add_scalars('Loss', {'test': test_loss}, epoch)\n",
    "        writer.add_scalars('Accuracy', {'test': test_accuracy}, epoch)\n",
    "\n",
    "        print(f\"Train Loss: {train_loss:.4f}, Train Accuracy: {train_accuracy:.2f}%\")\n",
    "        print(f\"Test Loss: {test_loss:.4f}, Test Accuracy: {test_accuracy:.2f}%\")\n",
    "        print('-' * 30)\n",
    "\n",
    "    writer.close()\n",
    "\n",
    "# Lancer l'entraînement et le test\n",
    "train_and_test(train_dataloader, test_dataloader, model, loss_fn, optimizer, epochs)\n"
   ]
  },
  {
   "cell_type": "code",
   "execution_count": 58,
   "metadata": {},
   "outputs": [],
   "source": [
    "class CNN(nn.Module):\n",
    "    def __init__(self, num_classes):\n",
    "        super(CNN, self).__init__()\n",
    "        self.conv_stack = nn.Sequential(\n",
    "            nn.Conv2d(in_channels=3, out_channels=32, kernel_size=3, padding=1),\n",
    "            nn.ReLU(),\n",
    "            nn.Conv2d(in_channels=32, out_channels=64, kernel_size=3, padding=1),\n",
    "            nn.ReLU(),\n",
    "            nn.MaxPool2d(kernel_size=2, stride=2),  # Réduit les dimensions de moitié\n",
    "\n",
    "            nn.Conv2d(in_channels=64, out_channels=128, kernel_size=3, padding=1),\n",
    "            nn.ReLU(),\n",
    "            nn.Conv2d(in_channels=128, out_channels=128, kernel_size=3, padding=1),\n",
    "            nn.ReLU(),\n",
    "            nn.MaxPool2d(kernel_size=2, stride=2),  # Réduit encore les dimensions de moitié\n",
    "        )\n",
    "        \n",
    "        # Calcul dynamique de la taille de sortie\n",
    "        with torch.no_grad():\n",
    "            dummy_input = torch.randn(1, 3, 28, 28)  # Entrée avec taille 28x28\n",
    "            conv_output = self.conv_stack(dummy_input)\n",
    "            conv_output_size = int(torch.prod(torch.tensor(conv_output.shape[1:])))\n",
    "        \n",
    "        # Définition de la pile fully-connected\n",
    "        self.fc_stack = nn.Sequential(\n",
    "            nn.Flatten(),\n",
    "            nn.Linear(conv_output_size, 512),  # Taille calculée dynamiquement\n",
    "            nn.ReLU(),\n",
    "            nn.Linear(512, 256),\n",
    "            nn.ReLU(),\n",
    "            nn.Linear(256, num_classes),\n",
    "        )\n",
    "\n",
    "    def forward(self, x):\n",
    "        x = self.conv_stack(x)\n",
    "        x = self.fc_stack(x)\n",
    "        return x\n"
   ]
  },
  {
   "cell_type": "code",
   "execution_count": 59,
   "metadata": {},
   "outputs": [],
   "source": [
    "cnn = CNN(num_classes=output_dim).to(device)\n",
    "loss_fn = nn.CrossEntropyLoss().to(device)\n",
    "optimizer = torch.optim.AdamW(cnn.parameters(), lr=1e-3)\n"
   ]
  },
  {
   "cell_type": "code",
   "execution_count": 60,
   "metadata": {},
   "outputs": [
    {
     "name": "stdout",
     "output_type": "stream",
     "text": [
      "Epoch 1/3\n",
      "Train Loss: 4.6082, Train Accuracy: 0.93%\n",
      "Test Loss: 4.6030, Test Accuracy: 0.96%\n",
      "------------------------------\n",
      "Epoch 2/3\n",
      "Train Loss: 4.5518, Train Accuracy: 1.29%\n",
      "Test Loss: 4.4933, Test Accuracy: 1.83%\n",
      "------------------------------\n",
      "Epoch 3/3\n",
      "Train Loss: 4.4666, Train Accuracy: 2.61%\n",
      "Test Loss: 4.4528, Test Accuracy: 3.12%\n",
      "------------------------------\n"
     ]
    }
   ],
   "source": [
    "wr  = SummaryWriter('runs/fgvcaircraft_experiment_2')\n",
    "train_and_test(train_dataloader, test_dataloader, cnn, loss_fn, optimizer, epochs)\n"
   ]
  },
  {
   "cell_type": "code",
   "execution_count": 62,
   "metadata": {},
   "outputs": [
    {
     "name": "stdout",
     "output_type": "stream",
     "text": [
      "Requirement already satisfied: onnx in c:\\users\\mgasp\\onedrive\\bureau\\ia\\.venv\\lib\\site-packages (1.17.0)\n",
      "Requirement already satisfied: numpy>=1.20 in c:\\users\\mgasp\\onedrive\\bureau\\ia\\.venv\\lib\\site-packages (from onnx) (2.2.2)\n",
      "Requirement already satisfied: protobuf>=3.20.2 in c:\\users\\mgasp\\onedrive\\bureau\\ia\\.venv\\lib\\site-packages (from onnx) (5.29.3)\n",
      "Note: you may need to restart the kernel to use updated packages.\n",
      "Requirement already satisfied: onnxscript in c:\\users\\mgasp\\onedrive\\bureau\\ia\\.venv\\lib\\site-packages (0.1.0)\n",
      "Requirement already satisfied: numpy in c:\\users\\mgasp\\onedrive\\bureau\\ia\\.venv\\lib\\site-packages (from onnxscript) (2.2.2)\n",
      "Requirement already satisfied: onnx>=1.16 in c:\\users\\mgasp\\onedrive\\bureau\\ia\\.venv\\lib\\site-packages (from onnxscript) (1.17.0)\n",
      "Requirement already satisfied: typing_extensions>=4.10 in c:\\users\\mgasp\\onedrive\\bureau\\ia\\.venv\\lib\\site-packages (from onnxscript) (4.12.2)\n",
      "Requirement already satisfied: ml_dtypes in c:\\users\\mgasp\\onedrive\\bureau\\ia\\.venv\\lib\\site-packages (from onnxscript) (0.5.1)\n",
      "Requirement already satisfied: packaging in c:\\users\\mgasp\\onedrive\\bureau\\ia\\.venv\\lib\\site-packages (from onnxscript) (24.2)\n",
      "Requirement already satisfied: protobuf>=3.20.2 in c:\\users\\mgasp\\onedrive\\bureau\\ia\\.venv\\lib\\site-packages (from onnx>=1.16->onnxscript) (5.29.3)\n",
      "Note: you may need to restart the kernel to use updated packages.\n"
     ]
    }
   ],
   "source": [
    "%pip install onnx\n",
    "%pip install onnxscript\n",
    "\n",
    "cnn.to('cpu')\n",
    "torch_input = torch.randn(1, 3, 28, 28)  # Change to 3 channels\n",
    "onnx_program = torch.onnx.export(cnn, torch_input, \"model.onnx\", verbose=True, input_names=['input'], output_names=['output'], opset_version=11, export_params=True,do_constant_folding=True,dynamic_axes={'input': {0: 'batch_size'}, 'output': {0: 'batch_size'}})\n"
   ]
  }
 ],
 "metadata": {
  "kernelspec": {
   "display_name": ".venv",
   "language": "python",
   "name": "python3"
  },
  "language_info": {
   "codemirror_mode": {
    "name": "ipython",
    "version": 3
   },
   "file_extension": ".py",
   "mimetype": "text/x-python",
   "name": "python",
   "nbconvert_exporter": "python",
   "pygments_lexer": "ipython3",
   "version": "3.10.11"
  }
 },
 "nbformat": 4,
 "nbformat_minor": 4
}
